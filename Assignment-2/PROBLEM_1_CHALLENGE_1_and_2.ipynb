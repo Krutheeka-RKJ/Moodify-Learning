{
  "nbformat": 4,
  "nbformat_minor": 0,
  "metadata": {
    "colab": {
      "name": "PROBLEM-1 CHALLENGE-1 and 2.ipynb",
      "provenance": []
    },
    "kernelspec": {
      "name": "python3",
      "display_name": "Python 3"
    },
    "language_info": {
      "name": "python"
    }
  },
  "cells": [
    {
      "cell_type": "code",
      "metadata": {
        "colab": {
          "resources": {
            "http://localhost:8080/nbextensions/google.colab/files.js": {
              "data": "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",
              "ok": true,
              "headers": [
                [
                  "content-type",
                  "application/javascript"
                ]
              ],
              "status": 200,
              "status_text": ""
            }
          },
          "base_uri": "https://localhost:8080/",
          "height": 177
        },
        "id": "Ypnmj306UMG8",
        "outputId": "06fdeaf4-3625-4d19-87a8-14af849d23a7"
      },
      "source": [
        "from google.colab import files\n",
        "uploaded = files.upload()"
      ],
      "execution_count": 1,
      "outputs": [
        {
          "output_type": "display_data",
          "data": {
            "text/html": [
              "\n",
              "     <input type=\"file\" id=\"files-2c8a5083-4b2f-4fb5-a082-c8a542088584\" name=\"files[]\" multiple disabled\n",
              "        style=\"border:none\" />\n",
              "     <output id=\"result-2c8a5083-4b2f-4fb5-a082-c8a542088584\">\n",
              "      Upload widget is only available when the cell has been executed in the\n",
              "      current browser session. Please rerun this cell to enable.\n",
              "      </output>\n",
              "      <script src=\"/nbextensions/google.colab/files.js\"></script> "
            ],
            "text/plain": [
              "<IPython.core.display.HTML object>"
            ]
          },
          "metadata": {
            "tags": []
          }
        },
        {
          "output_type": "stream",
          "text": [
            "Saving AdvWorksCusts.csv to AdvWorksCusts.csv\n",
            "Saving AW_AveMonthSpend.csv to AW_AveMonthSpend.csv\n",
            "Saving AW_BikeBuyer.csv to AW_BikeBuyer.csv\n",
            "Saving AW_test.csv to AW_test.csv\n"
          ],
          "name": "stdout"
        }
      ]
    },
    {
      "cell_type": "code",
      "metadata": {
        "id": "9Ozv3KdqUYD7"
      },
      "source": [
        "import pandas as pd\n",
        "from sklearn import preprocessing\n",
        "import sklearn.model_selection as ms\n",
        "from sklearn import linear_model\n",
        "import sklearn.metrics as sklm\n",
        "import numpy as np\n",
        "import numpy.random as nr\n",
        "import matplotlib.pyplot as plt\n",
        "import seaborn as sns\n",
        "import scipy.stats as ss\n",
        "import math\n",
        "import statistics\n",
        "from datetime import date\n",
        "\n",
        "%matplotlib inline"
      ],
      "execution_count": 6,
      "outputs": []
    },
    {
      "cell_type": "code",
      "metadata": {
        "id": "XRwA2LKkUlKF"
      },
      "source": [
        "cust_data = pd.read_csv(\"AdvWorksCusts.csv\")\n",
        "month_spend = pd.read_csv(\"AW_AveMonthSpend.csv\")\n",
        "past_hist = pd.read_csv(\"AW_BikeBuyer.csv\")"
      ],
      "execution_count": 3,
      "outputs": []
    },
    {
      "cell_type": "markdown",
      "metadata": {
        "id": "tpGk5V1n-qKG"
      },
      "source": [
        "##DATA CLEANING\n"
      ]
    },
    {
      "cell_type": "code",
      "metadata": {
        "colab": {
          "base_uri": "https://localhost:8080/",
          "height": 583
        },
        "id": "mtajWPteUoMW",
        "outputId": "82d69cba-d2e6-49a5-f80c-ed5dbb385626"
      },
      "source": [
        "cust_data.head(10)"
      ],
      "execution_count": null,
      "outputs": [
        {
          "output_type": "execute_result",
          "data": {
            "text/html": [
              "<div>\n",
              "<style scoped>\n",
              "    .dataframe tbody tr th:only-of-type {\n",
              "        vertical-align: middle;\n",
              "    }\n",
              "\n",
              "    .dataframe tbody tr th {\n",
              "        vertical-align: top;\n",
              "    }\n",
              "\n",
              "    .dataframe thead th {\n",
              "        text-align: right;\n",
              "    }\n",
              "</style>\n",
              "<table border=\"1\" class=\"dataframe\">\n",
              "  <thead>\n",
              "    <tr style=\"text-align: right;\">\n",
              "      <th></th>\n",
              "      <th>CustomerID</th>\n",
              "      <th>Title</th>\n",
              "      <th>FirstName</th>\n",
              "      <th>MiddleName</th>\n",
              "      <th>LastName</th>\n",
              "      <th>Suffix</th>\n",
              "      <th>AddressLine1</th>\n",
              "      <th>AddressLine2</th>\n",
              "      <th>City</th>\n",
              "      <th>StateProvinceName</th>\n",
              "      <th>CountryRegionName</th>\n",
              "      <th>PostalCode</th>\n",
              "      <th>PhoneNumber</th>\n",
              "      <th>BirthDate</th>\n",
              "      <th>Education</th>\n",
              "      <th>Occupation</th>\n",
              "      <th>Gender</th>\n",
              "      <th>MaritalStatus</th>\n",
              "      <th>HomeOwnerFlag</th>\n",
              "      <th>NumberCarsOwned</th>\n",
              "      <th>NumberChildrenAtHome</th>\n",
              "      <th>TotalChildren</th>\n",
              "      <th>YearlyIncome</th>\n",
              "    </tr>\n",
              "  </thead>\n",
              "  <tbody>\n",
              "    <tr>\n",
              "      <th>0</th>\n",
              "      <td>11000</td>\n",
              "      <td>NaN</td>\n",
              "      <td>Jon</td>\n",
              "      <td>V</td>\n",
              "      <td>Yang</td>\n",
              "      <td>NaN</td>\n",
              "      <td>3761 N. 14th St</td>\n",
              "      <td>NaN</td>\n",
              "      <td>Rockhampton</td>\n",
              "      <td>Queensland</td>\n",
              "      <td>Australia</td>\n",
              "      <td>4700</td>\n",
              "      <td>1 (11) 500 555-0162</td>\n",
              "      <td>1966-04-08</td>\n",
              "      <td>Bachelors</td>\n",
              "      <td>Professional</td>\n",
              "      <td>M</td>\n",
              "      <td>M</td>\n",
              "      <td>1</td>\n",
              "      <td>0</td>\n",
              "      <td>0</td>\n",
              "      <td>2</td>\n",
              "      <td>137947</td>\n",
              "    </tr>\n",
              "    <tr>\n",
              "      <th>1</th>\n",
              "      <td>11001</td>\n",
              "      <td>NaN</td>\n",
              "      <td>Eugene</td>\n",
              "      <td>L</td>\n",
              "      <td>Huang</td>\n",
              "      <td>NaN</td>\n",
              "      <td>2243 W St.</td>\n",
              "      <td>NaN</td>\n",
              "      <td>Seaford</td>\n",
              "      <td>Victoria</td>\n",
              "      <td>Australia</td>\n",
              "      <td>3198</td>\n",
              "      <td>1 (11) 500 555-0110</td>\n",
              "      <td>1965-05-14</td>\n",
              "      <td>Bachelors</td>\n",
              "      <td>Professional</td>\n",
              "      <td>M</td>\n",
              "      <td>S</td>\n",
              "      <td>0</td>\n",
              "      <td>1</td>\n",
              "      <td>3</td>\n",
              "      <td>3</td>\n",
              "      <td>101141</td>\n",
              "    </tr>\n",
              "    <tr>\n",
              "      <th>2</th>\n",
              "      <td>11002</td>\n",
              "      <td>NaN</td>\n",
              "      <td>Ruben</td>\n",
              "      <td>NaN</td>\n",
              "      <td>Torres</td>\n",
              "      <td>NaN</td>\n",
              "      <td>5844 Linden Land</td>\n",
              "      <td>NaN</td>\n",
              "      <td>Hobart</td>\n",
              "      <td>Tasmania</td>\n",
              "      <td>Australia</td>\n",
              "      <td>7001</td>\n",
              "      <td>1 (11) 500 555-0184</td>\n",
              "      <td>1965-08-12</td>\n",
              "      <td>Bachelors</td>\n",
              "      <td>Professional</td>\n",
              "      <td>M</td>\n",
              "      <td>M</td>\n",
              "      <td>1</td>\n",
              "      <td>1</td>\n",
              "      <td>3</td>\n",
              "      <td>3</td>\n",
              "      <td>91945</td>\n",
              "    </tr>\n",
              "    <tr>\n",
              "      <th>3</th>\n",
              "      <td>11003</td>\n",
              "      <td>NaN</td>\n",
              "      <td>Christy</td>\n",
              "      <td>NaN</td>\n",
              "      <td>Zhu</td>\n",
              "      <td>NaN</td>\n",
              "      <td>1825 Village Pl.</td>\n",
              "      <td>NaN</td>\n",
              "      <td>North Ryde</td>\n",
              "      <td>New South Wales</td>\n",
              "      <td>Australia</td>\n",
              "      <td>2113</td>\n",
              "      <td>1 (11) 500 555-0162</td>\n",
              "      <td>1968-02-15</td>\n",
              "      <td>Bachelors</td>\n",
              "      <td>Professional</td>\n",
              "      <td>F</td>\n",
              "      <td>S</td>\n",
              "      <td>0</td>\n",
              "      <td>1</td>\n",
              "      <td>0</td>\n",
              "      <td>0</td>\n",
              "      <td>86688</td>\n",
              "    </tr>\n",
              "    <tr>\n",
              "      <th>4</th>\n",
              "      <td>11004</td>\n",
              "      <td>NaN</td>\n",
              "      <td>Elizabeth</td>\n",
              "      <td>NaN</td>\n",
              "      <td>Johnson</td>\n",
              "      <td>NaN</td>\n",
              "      <td>7553 Harness Circle</td>\n",
              "      <td>NaN</td>\n",
              "      <td>Wollongong</td>\n",
              "      <td>New South Wales</td>\n",
              "      <td>Australia</td>\n",
              "      <td>2500</td>\n",
              "      <td>1 (11) 500 555-0131</td>\n",
              "      <td>1968-08-08</td>\n",
              "      <td>Bachelors</td>\n",
              "      <td>Professional</td>\n",
              "      <td>F</td>\n",
              "      <td>S</td>\n",
              "      <td>1</td>\n",
              "      <td>4</td>\n",
              "      <td>5</td>\n",
              "      <td>5</td>\n",
              "      <td>92771</td>\n",
              "    </tr>\n",
              "    <tr>\n",
              "      <th>5</th>\n",
              "      <td>11005</td>\n",
              "      <td>NaN</td>\n",
              "      <td>Julio</td>\n",
              "      <td>NaN</td>\n",
              "      <td>Ruiz</td>\n",
              "      <td>NaN</td>\n",
              "      <td>7305 Humphrey Drive</td>\n",
              "      <td>NaN</td>\n",
              "      <td>East Brisbane</td>\n",
              "      <td>Queensland</td>\n",
              "      <td>Australia</td>\n",
              "      <td>4169</td>\n",
              "      <td>1 (11) 500 555-0151</td>\n",
              "      <td>1965-08-05</td>\n",
              "      <td>Bachelors</td>\n",
              "      <td>Professional</td>\n",
              "      <td>M</td>\n",
              "      <td>S</td>\n",
              "      <td>1</td>\n",
              "      <td>1</td>\n",
              "      <td>0</td>\n",
              "      <td>0</td>\n",
              "      <td>103199</td>\n",
              "    </tr>\n",
              "    <tr>\n",
              "      <th>6</th>\n",
              "      <td>11006</td>\n",
              "      <td>NaN</td>\n",
              "      <td>Janet</td>\n",
              "      <td>G</td>\n",
              "      <td>Alvarez</td>\n",
              "      <td>NaN</td>\n",
              "      <td>2612 Berry Dr</td>\n",
              "      <td>NaN</td>\n",
              "      <td>Matraville</td>\n",
              "      <td>New South Wales</td>\n",
              "      <td>Australia</td>\n",
              "      <td>2036</td>\n",
              "      <td>1 (11) 500 555-0184</td>\n",
              "      <td>1965-12-06</td>\n",
              "      <td>Bachelors</td>\n",
              "      <td>Professional</td>\n",
              "      <td>F</td>\n",
              "      <td>S</td>\n",
              "      <td>1</td>\n",
              "      <td>1</td>\n",
              "      <td>0</td>\n",
              "      <td>0</td>\n",
              "      <td>84756</td>\n",
              "    </tr>\n",
              "    <tr>\n",
              "      <th>7</th>\n",
              "      <td>11007</td>\n",
              "      <td>NaN</td>\n",
              "      <td>Marco</td>\n",
              "      <td>NaN</td>\n",
              "      <td>Mehta</td>\n",
              "      <td>NaN</td>\n",
              "      <td>942 Brook Street</td>\n",
              "      <td>NaN</td>\n",
              "      <td>Warrnambool</td>\n",
              "      <td>Victoria</td>\n",
              "      <td>Australia</td>\n",
              "      <td>3280</td>\n",
              "      <td>1 (11) 500 555-0126</td>\n",
              "      <td>1964-05-09</td>\n",
              "      <td>Bachelors</td>\n",
              "      <td>Professional</td>\n",
              "      <td>M</td>\n",
              "      <td>M</td>\n",
              "      <td>1</td>\n",
              "      <td>2</td>\n",
              "      <td>3</td>\n",
              "      <td>3</td>\n",
              "      <td>109759</td>\n",
              "    </tr>\n",
              "    <tr>\n",
              "      <th>8</th>\n",
              "      <td>11008</td>\n",
              "      <td>NaN</td>\n",
              "      <td>Rob</td>\n",
              "      <td>NaN</td>\n",
              "      <td>Verhoff</td>\n",
              "      <td>NaN</td>\n",
              "      <td>624 Peabody Road</td>\n",
              "      <td>NaN</td>\n",
              "      <td>Bendigo</td>\n",
              "      <td>Victoria</td>\n",
              "      <td>Australia</td>\n",
              "      <td>3550</td>\n",
              "      <td>1 (11) 500 555-0164</td>\n",
              "      <td>1964-07-07</td>\n",
              "      <td>Bachelors</td>\n",
              "      <td>Professional</td>\n",
              "      <td>F</td>\n",
              "      <td>S</td>\n",
              "      <td>1</td>\n",
              "      <td>3</td>\n",
              "      <td>4</td>\n",
              "      <td>4</td>\n",
              "      <td>88005</td>\n",
              "    </tr>\n",
              "    <tr>\n",
              "      <th>9</th>\n",
              "      <td>11009</td>\n",
              "      <td>NaN</td>\n",
              "      <td>Shannon</td>\n",
              "      <td>C</td>\n",
              "      <td>Carlson</td>\n",
              "      <td>NaN</td>\n",
              "      <td>3839 Northgate Road</td>\n",
              "      <td>NaN</td>\n",
              "      <td>Hervey Bay</td>\n",
              "      <td>Queensland</td>\n",
              "      <td>Australia</td>\n",
              "      <td>4655</td>\n",
              "      <td>1 (11) 500 555-0110</td>\n",
              "      <td>1964-04-01</td>\n",
              "      <td>Bachelors</td>\n",
              "      <td>Professional</td>\n",
              "      <td>M</td>\n",
              "      <td>S</td>\n",
              "      <td>0</td>\n",
              "      <td>1</td>\n",
              "      <td>0</td>\n",
              "      <td>0</td>\n",
              "      <td>106399</td>\n",
              "    </tr>\n",
              "  </tbody>\n",
              "</table>\n",
              "</div>"
            ],
            "text/plain": [
              "   CustomerID Title  ... TotalChildren YearlyIncome\n",
              "0       11000   NaN  ...             2       137947\n",
              "1       11001   NaN  ...             3       101141\n",
              "2       11002   NaN  ...             3        91945\n",
              "3       11003   NaN  ...             0        86688\n",
              "4       11004   NaN  ...             5        92771\n",
              "5       11005   NaN  ...             0       103199\n",
              "6       11006   NaN  ...             0        84756\n",
              "7       11007   NaN  ...             3       109759\n",
              "8       11008   NaN  ...             4        88005\n",
              "9       11009   NaN  ...             0       106399\n",
              "\n",
              "[10 rows x 23 columns]"
            ]
          },
          "metadata": {
            "tags": []
          },
          "execution_count": 4
        }
      ]
    },
    {
      "cell_type": "code",
      "metadata": {
        "colab": {
          "base_uri": "https://localhost:8080/"
        },
        "id": "KOqRPP-MUtxx",
        "outputId": "28760fdc-b55f-4bb1-a533-85801b4c59b8"
      },
      "source": [
        "cust_data.shape"
      ],
      "execution_count": null,
      "outputs": [
        {
          "output_type": "execute_result",
          "data": {
            "text/plain": [
              "(16519, 23)"
            ]
          },
          "metadata": {
            "tags": []
          },
          "execution_count": 5
        }
      ]
    },
    {
      "cell_type": "code",
      "metadata": {
        "id": "n7C_0nvZUwwZ"
      },
      "source": [
        "cols = cust_data.columns #to check for any missing values: Ans- no missing value\n",
        "for col in cols:\n",
        "  print('?' in cust_data[col])"
      ],
      "execution_count": null,
      "outputs": []
    },
    {
      "cell_type": "code",
      "metadata": {
        "colab": {
          "base_uri": "https://localhost:8080/"
        },
        "id": "0SQWdJtoU1UV",
        "outputId": "ab6e188e-ea62-4a8f-fe15-50d9906d5ed9"
      },
      "source": [
        "def clean_data(cust_data):\n",
        "    #To remove some useless columns having all NaN data type like 'Title'\n",
        "    cust_data.dropna(axis='columns',how= 'all',thresh= 8260, inplace=True)\n",
        "    #To remove duplicated rows with customer id as identifier\n",
        "    cust_data.drop_duplicates(subset=\"CustomerID\",keep='first',inplace=True)\n",
        "\n",
        "clean_data(cust_data)\n",
        "print(cust_data.shape)\n",
        "\n",
        "month_spend.drop_duplicates(subset=\"CustomerID\",keep='first',inplace=True)  #cleaning month_spend\n",
        "print(month_spend.shape)\n",
        "past_hist.drop_duplicates(subset=\"CustomerID\",keep='first',inplace=True)    #cleaning past_hist\n",
        "print(past_hist.shape)\n",
        "#Changing the categorical label of the Bikebuyer column\n",
        "past_hist.loc[past_hist['BikeBuyer']==0,'BikeBuyer'] = 'No'       \n",
        "past_hist.loc[past_hist['BikeBuyer']==1,'BikeBuyer'] = 'Yes'\n"
      ],
      "execution_count": 4,
      "outputs": [
        {
          "output_type": "stream",
          "text": [
            "(16404, 20)\n",
            "(16404, 2)\n",
            "(16404, 2)\n"
          ],
          "name": "stdout"
        }
      ]
    },
    {
      "cell_type": "code",
      "metadata": {
        "colab": {
          "base_uri": "https://localhost:8080/",
          "height": 294
        },
        "id": "CqORfSykaeFm",
        "outputId": "22246243-8f1b-4e4d-cb27-575f868d0c49"
      },
      "source": [
        "month_spend.describe()"
      ],
      "execution_count": null,
      "outputs": [
        {
          "output_type": "execute_result",
          "data": {
            "text/html": [
              "<div>\n",
              "<style scoped>\n",
              "    .dataframe tbody tr th:only-of-type {\n",
              "        vertical-align: middle;\n",
              "    }\n",
              "\n",
              "    .dataframe tbody tr th {\n",
              "        vertical-align: top;\n",
              "    }\n",
              "\n",
              "    .dataframe thead th {\n",
              "        text-align: right;\n",
              "    }\n",
              "</style>\n",
              "<table border=\"1\" class=\"dataframe\">\n",
              "  <thead>\n",
              "    <tr style=\"text-align: right;\">\n",
              "      <th></th>\n",
              "      <th>CustomerID</th>\n",
              "      <th>AveMonthSpend</th>\n",
              "    </tr>\n",
              "  </thead>\n",
              "  <tbody>\n",
              "    <tr>\n",
              "      <th>count</th>\n",
              "      <td>16404.000000</td>\n",
              "      <td>16404.000000</td>\n",
              "    </tr>\n",
              "    <tr>\n",
              "      <th>mean</th>\n",
              "      <td>20240.143136</td>\n",
              "      <td>72.389905</td>\n",
              "    </tr>\n",
              "    <tr>\n",
              "      <th>std</th>\n",
              "      <td>5340.370705</td>\n",
              "      <td>27.269568</td>\n",
              "    </tr>\n",
              "    <tr>\n",
              "      <th>min</th>\n",
              "      <td>11000.000000</td>\n",
              "      <td>22.000000</td>\n",
              "    </tr>\n",
              "    <tr>\n",
              "      <th>25%</th>\n",
              "      <td>15617.750000</td>\n",
              "      <td>52.000000</td>\n",
              "    </tr>\n",
              "    <tr>\n",
              "      <th>50%</th>\n",
              "      <td>20231.500000</td>\n",
              "      <td>68.000000</td>\n",
              "    </tr>\n",
              "    <tr>\n",
              "      <th>75%</th>\n",
              "      <td>24862.250000</td>\n",
              "      <td>84.000000</td>\n",
              "    </tr>\n",
              "    <tr>\n",
              "      <th>max</th>\n",
              "      <td>29482.000000</td>\n",
              "      <td>176.000000</td>\n",
              "    </tr>\n",
              "  </tbody>\n",
              "</table>\n",
              "</div>"
            ],
            "text/plain": [
              "         CustomerID  AveMonthSpend\n",
              "count  16404.000000   16404.000000\n",
              "mean   20240.143136      72.389905\n",
              "std     5340.370705      27.269568\n",
              "min    11000.000000      22.000000\n",
              "25%    15617.750000      52.000000\n",
              "50%    20231.500000      68.000000\n",
              "75%    24862.250000      84.000000\n",
              "max    29482.000000     176.000000"
            ]
          },
          "metadata": {
            "tags": []
          },
          "execution_count": 24
        }
      ]
    },
    {
      "cell_type": "markdown",
      "metadata": {
        "id": "oZ8Io_jTaiLV"
      },
      "source": [
        "\n",
        "\n",
        "*   Minimum Average Month Spend: 22.000000\n",
        "*   Maximum Average Month Spend: 176.000000\n",
        "*   Mean Average Month Spend: 72.389905\n",
        "*   Standard deviation of Average Month Spend: 27.269568\n",
        "\n",
        "\n"
      ]
    },
    {
      "cell_type": "markdown",
      "metadata": {
        "id": "vYa_RcOF-6Ji"
      },
      "source": [
        "##DATA VISUALISATION"
      ]
    },
    {
      "cell_type": "code",
      "metadata": {
        "colab": {
          "base_uri": "https://localhost:8080/",
          "height": 410
        },
        "id": "g2payzREbOrq",
        "outputId": "fc219244-500a-45f4-c70a-5f4894b4fa14"
      },
      "source": [
        "def plot_bars(past_hist):\n",
        "        fig = plt.figure(figsize=(6,6)) # define plot area\n",
        "        ax = fig.gca() # define axis    \n",
        "        counts = past_hist['BikeBuyer'].value_counts() # find the counts for each unique category\n",
        "        counts.plot.bar(ax = ax, color = 'blue') # Use the plot.bar method on the counts data frame\n",
        "        ax.set_title('Bike Buyers') # Give the plot a main title\n",
        "        ax.set_xlabel('Bike Buyer') # Set text for the x axis\n",
        "        ax.set_ylabel('Number of Customers')# Set text for y axis\n",
        "        plt.show()\n",
        "\n",
        "plot_bars(past_hist)"
      ],
      "execution_count": null,
      "outputs": [
        {
          "output_type": "display_data",
          "data": {
            "image/png": "[encoded data removed]",
            "text/plain": [
              "<Figure size 432x432 with 1 Axes>"
            ]
          },
          "metadata": {
            "tags": [],
            "needs_background": "light"
          }
        }
      ]
    },
    {
      "cell_type": "code",
      "metadata": {
        "colab": {
          "base_uri": "https://localhost:8080/",
          "height": 334
        },
        "id": "wOu9xvEkbS8i",
        "outputId": "c8501486-7b13-41fb-e4a8-5d478c3c320c"
      },
      "source": [
        "def plot_box(cust_data,col,col_y = 'YearlyIncome'):\n",
        "        sns.set_style(\"whitegrid\")\n",
        "        sns.boxplot(col, col_y, data=cust_data)\n",
        "        plt.xlabel(col) # Set text for the x axis\n",
        "        plt.ylabel(col_y)# Set text for y axis\n",
        "        plt.show()\n",
        "        \n",
        "plot_box(cust_data,'Occupation')"
      ],
      "execution_count": null,
      "outputs": [
        {
          "output_type": "stream",
          "text": [
            "/usr/local/lib/python3.7/dist-packages/seaborn/_decorators.py:43: FutureWarning: Pass the following variables as keyword args: x, y. From version 0.12, the only valid positional argument will be `data`, and passing other arguments without an explicit keyword will result in an error or misinterpretation.\n",
            "  FutureWarning\n"
          ],
          "name": "stderr"
        },
        {
          "output_type": "display_data",
          "data": {
            "image/png": "[encoded data removed]",
            "text/plain": [
              "<Figure size 432x288 with 1 Axes>"
            ]
          },
          "metadata": {
            "tags": []
          }
        }
      ]
    },
    {
      "cell_type": "markdown",
      "metadata": {
        "id": "AhNVQ8mKbbmN"
      },
      "source": [
        "Management sector has the highest median Yearly Income.\n",
        "\n"
      ]
    },
    {
      "cell_type": "code",
      "metadata": {
        "colab": {
          "base_uri": "https://localhost:8080/",
          "height": 732
        },
        "id": "wmCa4Rt0be3O",
        "outputId": "542a9245-6aa0-45dd-b8cc-28820b793370"
      },
      "source": [
        "age = []  #Add age column\n",
        "reference = date(1998,1,1)\n",
        "cust_data['BirthDate'] = pd.to_datetime(cust_data['BirthDate'])\n",
        "for x in cust_data['BirthDate']:\n",
        "  a = reference.year - x.year - ((reference.month, reference.day) < (x.month, x.day))\n",
        "  age.append(a)\n",
        "cust_data['Age'] = age\n",
        "cust_data['AveMonthSpend'] = month_spend['AveMonthSpend']\n",
        "cust_data['BikeBuyer'] = past_hist['BikeBuyer']\n",
        "\n",
        "medians = month_spend.median()\n",
        "\n",
        "def plot_scatter_shape(cust_data, cols, shape_cols, medians,col_y = 'AveMonthSpend', alpha = 0.2):\n",
        "    shapes = ['+', 'o', 's', 'x', '^'] # pick distinctive shapes\n",
        "    for shape_col in shape_cols:\n",
        "      unique_cats = cust_data[shape_col].unique()\n",
        "      for col in cols: # loop over the columns to plot\n",
        "          sns.set_style(\"whitegrid\")\n",
        "          for i, cat in enumerate(unique_cats): # loop over the unique categories\n",
        "              temp = cust_data[(cust_data[shape_col] == cat) & (cust_data['AveMonthSpend'] >= medians['AveMonthSpend'])]\n",
        "              sns.regplot(col, col_y, data=temp, marker = shapes[i], label = cat,scatter_kws={\"alpha\":alpha},fit_reg = False, color = 'blue')\n",
        "          plt.title('Scatter plot of ' + col_y + ' vs. ' + col + ' (' + shape_col +') ') # Give the plot a main title\n",
        "          plt.xlabel(col) # Set text for the x axis\n",
        "          plt.ylabel(col_y)# Set text for y axis\n",
        "          plt.legend()\n",
        "          plt.show()\n",
        "shape_cols = ['Gender','MaritalStatus']            \n",
        "cols = ['Age']\n",
        "plot_scatter_shape(cust_data,cols,shape_cols, medians)"
      ],
      "execution_count": 7,
      "outputs": [
        {
          "output_type": "stream",
          "text": [
            "/usr/local/lib/python3.7/dist-packages/seaborn/_decorators.py:43: FutureWarning: Pass the following variables as keyword args: x, y. From version 0.12, the only valid positional argument will be `data`, and passing other arguments without an explicit keyword will result in an error or misinterpretation.\n",
            "  FutureWarning\n",
            "/usr/local/lib/python3.7/dist-packages/seaborn/_decorators.py:43: FutureWarning: Pass the following variables as keyword args: x, y. From version 0.12, the only valid positional argument will be `data`, and passing other arguments without an explicit keyword will result in an error or misinterpretation.\n",
            "  FutureWarning\n"
          ],
          "name": "stderr"
        },
        {
          "output_type": "display_data",
          "data": {
            "image/png": "[encoded data removed]",
            "text/plain": [
              "<Figure size 432x288 with 1 Axes>"
            ]
          },
          "metadata": {
            "tags": []
          }
        },
        {
          "output_type": "stream",
          "text": [
            "/usr/local/lib/python3.7/dist-packages/seaborn/_decorators.py:43: FutureWarning: Pass the following variables as keyword args: x, y. From version 0.12, the only valid positional argument will be `data`, and passing other arguments without an explicit keyword will result in an error or misinterpretation.\n",
            "  FutureWarning\n",
            "/usr/local/lib/python3.7/dist-packages/seaborn/_decorators.py:43: FutureWarning: Pass the following variables as keyword args: x, y. From version 0.12, the only valid positional argument will be `data`, and passing other arguments without an explicit keyword will result in an error or misinterpretation.\n",
            "  FutureWarning\n"
          ],
          "name": "stderr"
        },
        {
          "output_type": "display_data",
          "data": {
            "image/png": "[encoded data removed]",
            "text/plain": [
              "<Figure size 432x288 with 1 Axes>"
            ]
          },
          "metadata": {
            "tags": []
          }
        }
      ]
    },
    {
      "cell_type": "markdown",
      "metadata": {
        "id": "bysi-yNsbpVy"
      },
      "source": [
        "From plot 1, we can see that males between the ages 25-45 have high Average Month Spend\n",
        "\n",
        "From plot 2 we can see that married men have high Average Month Spend"
      ]
    },
    {
      "cell_type": "markdown",
      "metadata": {
        "id": "qJaVfSzv_DNj"
      },
      "source": [
        "##CREATING A LINEAR REGRESSION MODEL"
      ]
    },
    {
      "cell_type": "code",
      "metadata": {
        "id": "xU8VtnGWcK-1"
      },
      "source": [
        "cust_data.drop(['BikeBuyer'],axis=1)"
      ],
      "execution_count": null,
      "outputs": []
    },
    {
      "cell_type": "code",
      "metadata": {
        "colab": {
          "base_uri": "https://localhost:8080/",
          "height": 309
        },
        "id": "AzXnWO3eirSs",
        "outputId": "3cf8fb2c-aa77-4ad5-9779-4d0fe6ca40c1"
      },
      "source": [
        "cust_data.head()"
      ],
      "execution_count": 9,
      "outputs": [
        {
          "output_type": "execute_result",
          "data": {
            "text/html": [
              "<div>\n",
              "<style scoped>\n",
              "    .dataframe tbody tr th:only-of-type {\n",
              "        vertical-align: middle;\n",
              "    }\n",
              "\n",
              "    .dataframe tbody tr th {\n",
              "        vertical-align: top;\n",
              "    }\n",
              "\n",
              "    .dataframe thead th {\n",
              "        text-align: right;\n",
              "    }\n",
              "</style>\n",
              "<table border=\"1\" class=\"dataframe\">\n",
              "  <thead>\n",
              "    <tr style=\"text-align: right;\">\n",
              "      <th></th>\n",
              "      <th>CustomerID</th>\n",
              "      <th>FirstName</th>\n",
              "      <th>MiddleName</th>\n",
              "      <th>LastName</th>\n",
              "      <th>AddressLine1</th>\n",
              "      <th>City</th>\n",
              "      <th>StateProvinceName</th>\n",
              "      <th>CountryRegionName</th>\n",
              "      <th>PostalCode</th>\n",
              "      <th>PhoneNumber</th>\n",
              "      <th>BirthDate</th>\n",
              "      <th>Education</th>\n",
              "      <th>Occupation</th>\n",
              "      <th>Gender</th>\n",
              "      <th>MaritalStatus</th>\n",
              "      <th>HomeOwnerFlag</th>\n",
              "      <th>NumberCarsOwned</th>\n",
              "      <th>NumberChildrenAtHome</th>\n",
              "      <th>TotalChildren</th>\n",
              "      <th>YearlyIncome</th>\n",
              "      <th>Age</th>\n",
              "      <th>AveMonthSpend</th>\n",
              "      <th>BikeBuyer</th>\n",
              "    </tr>\n",
              "  </thead>\n",
              "  <tbody>\n",
              "    <tr>\n",
              "      <th>0</th>\n",
              "      <td>11000</td>\n",
              "      <td>Jon</td>\n",
              "      <td>V</td>\n",
              "      <td>Yang</td>\n",
              "      <td>3761 N. 14th St</td>\n",
              "      <td>Rockhampton</td>\n",
              "      <td>Queensland</td>\n",
              "      <td>Australia</td>\n",
              "      <td>4700</td>\n",
              "      <td>1 (11) 500 555-0162</td>\n",
              "      <td>1966-04-08</td>\n",
              "      <td>Bachelors</td>\n",
              "      <td>Professional</td>\n",
              "      <td>M</td>\n",
              "      <td>M</td>\n",
              "      <td>1</td>\n",
              "      <td>0</td>\n",
              "      <td>0</td>\n",
              "      <td>2</td>\n",
              "      <td>137947</td>\n",
              "      <td>31</td>\n",
              "      <td>89</td>\n",
              "      <td>No</td>\n",
              "    </tr>\n",
              "    <tr>\n",
              "      <th>1</th>\n",
              "      <td>11001</td>\n",
              "      <td>Eugene</td>\n",
              "      <td>L</td>\n",
              "      <td>Huang</td>\n",
              "      <td>2243 W St.</td>\n",
              "      <td>Seaford</td>\n",
              "      <td>Victoria</td>\n",
              "      <td>Australia</td>\n",
              "      <td>3198</td>\n",
              "      <td>1 (11) 500 555-0110</td>\n",
              "      <td>1965-05-14</td>\n",
              "      <td>Bachelors</td>\n",
              "      <td>Professional</td>\n",
              "      <td>M</td>\n",
              "      <td>S</td>\n",
              "      <td>0</td>\n",
              "      <td>1</td>\n",
              "      <td>3</td>\n",
              "      <td>3</td>\n",
              "      <td>101141</td>\n",
              "      <td>32</td>\n",
              "      <td>117</td>\n",
              "      <td>Yes</td>\n",
              "    </tr>\n",
              "    <tr>\n",
              "      <th>2</th>\n",
              "      <td>11002</td>\n",
              "      <td>Ruben</td>\n",
              "      <td>NaN</td>\n",
              "      <td>Torres</td>\n",
              "      <td>5844 Linden Land</td>\n",
              "      <td>Hobart</td>\n",
              "      <td>Tasmania</td>\n",
              "      <td>Australia</td>\n",
              "      <td>7001</td>\n",
              "      <td>1 (11) 500 555-0184</td>\n",
              "      <td>1965-08-12</td>\n",
              "      <td>Bachelors</td>\n",
              "      <td>Professional</td>\n",
              "      <td>M</td>\n",
              "      <td>M</td>\n",
              "      <td>1</td>\n",
              "      <td>1</td>\n",
              "      <td>3</td>\n",
              "      <td>3</td>\n",
              "      <td>91945</td>\n",
              "      <td>32</td>\n",
              "      <td>123</td>\n",
              "      <td>No</td>\n",
              "    </tr>\n",
              "    <tr>\n",
              "      <th>3</th>\n",
              "      <td>11003</td>\n",
              "      <td>Christy</td>\n",
              "      <td>NaN</td>\n",
              "      <td>Zhu</td>\n",
              "      <td>1825 Village Pl.</td>\n",
              "      <td>North Ryde</td>\n",
              "      <td>New South Wales</td>\n",
              "      <td>Australia</td>\n",
              "      <td>2113</td>\n",
              "      <td>1 (11) 500 555-0162</td>\n",
              "      <td>1968-02-15</td>\n",
              "      <td>Bachelors</td>\n",
              "      <td>Professional</td>\n",
              "      <td>F</td>\n",
              "      <td>S</td>\n",
              "      <td>0</td>\n",
              "      <td>1</td>\n",
              "      <td>0</td>\n",
              "      <td>0</td>\n",
              "      <td>86688</td>\n",
              "      <td>29</td>\n",
              "      <td>50</td>\n",
              "      <td>No</td>\n",
              "    </tr>\n",
              "    <tr>\n",
              "      <th>4</th>\n",
              "      <td>11004</td>\n",
              "      <td>Elizabeth</td>\n",
              "      <td>NaN</td>\n",
              "      <td>Johnson</td>\n",
              "      <td>7553 Harness Circle</td>\n",
              "      <td>Wollongong</td>\n",
              "      <td>New South Wales</td>\n",
              "      <td>Australia</td>\n",
              "      <td>2500</td>\n",
              "      <td>1 (11) 500 555-0131</td>\n",
              "      <td>1968-08-08</td>\n",
              "      <td>Bachelors</td>\n",
              "      <td>Professional</td>\n",
              "      <td>F</td>\n",
              "      <td>S</td>\n",
              "      <td>1</td>\n",
              "      <td>4</td>\n",
              "      <td>5</td>\n",
              "      <td>5</td>\n",
              "      <td>92771</td>\n",
              "      <td>29</td>\n",
              "      <td>95</td>\n",
              "      <td>Yes</td>\n",
              "    </tr>\n",
              "  </tbody>\n",
              "</table>\n",
              "</div>"
            ],
            "text/plain": [
              "   CustomerID  FirstName MiddleName  ... Age AveMonthSpend BikeBuyer\n",
              "0       11000        Jon          V  ...  31            89        No\n",
              "1       11001     Eugene          L  ...  32           117       Yes\n",
              "2       11002      Ruben        NaN  ...  32           123        No\n",
              "3       11003    Christy        NaN  ...  29            50        No\n",
              "4       11004  Elizabeth        NaN  ...  29            95       Yes\n",
              "\n",
              "[5 rows x 23 columns]"
            ]
          },
          "metadata": {
            "tags": []
          },
          "execution_count": 9
        }
      ]
    },
    {
      "cell_type": "code",
      "metadata": {
        "colab": {
          "base_uri": "https://localhost:8080/"
        },
        "id": "lrUJjc5rjfAs",
        "outputId": "d1d765d9-6d39-49e2-bc9c-827cd6e21952"
      },
      "source": [
        "count = cust_data['TotalChildren'].value_counts()\n",
        "print(count)"
      ],
      "execution_count": null,
      "outputs": [
        {
          "output_type": "stream",
          "text": [
            "0    4244\n",
            "2    3166\n",
            "1    3054\n",
            "4    2250\n",
            "3    1977\n",
            "5    1713\n",
            "Name: TotalChildren, dtype: int64\n"
          ],
          "name": "stdout"
        }
      ]
    },
    {
      "cell_type": "code",
      "metadata": {
        "colab": {
          "base_uri": "https://localhost:8080/"
        },
        "id": "CpzB3ew1m2am",
        "outputId": "62ec2e74-5a7e-479e-c518-98107e89ddaa"
      },
      "source": [
        "Features = cust_data['Education']\n",
        "enc = preprocessing.LabelEncoder()\n",
        "enc.fit(Features)\n",
        "Features = enc.transform(Features)\n",
        "\n",
        "ohe = preprocessing.OneHotEncoder()\n",
        "encoded = ohe.fit(Features.reshape(-1,1))\n",
        "Features = encoded.transform(Features.reshape(-1,1)).toarray()\n",
        "\n",
        "def encode_string(cat_feature):\n",
        "    ## First encode the strings to numeric categories\n",
        "    enc = preprocessing.LabelEncoder()\n",
        "    enc.fit(cat_feature)\n",
        "    enc_cat_feature = enc.transform(cat_feature)\n",
        "    ## Now, apply one hot encoding\n",
        "    ohe = preprocessing.OneHotEncoder()\n",
        "    encoded = ohe.fit(enc_cat_feature.reshape(-1,1))\n",
        "    return encoded.transform(enc_cat_feature.reshape(-1,1)).toarray()\n",
        "    \n",
        "\n",
        "categorical_columns = ['Occupation', 'Gender','MaritalStatus','HomeOwnerFlag','NumberCarsOwned','NumberChildrenAtHome','TotalChildren']\n",
        "\n",
        "for col in categorical_columns:\n",
        "    temp = encode_string(cust_data[col])\n",
        "    Features = np.concatenate([Features, temp], axis = 1)\n",
        "\n",
        "print(Features.shape)\n",
        "print(Features[:2, :])"
      ],
      "execution_count": 10,
      "outputs": [
        {
          "output_type": "stream",
          "text": [
            "(16404, 33)\n",
            "[[1. 0. 0. 0. 0. 0. 0. 0. 1. 0. 0. 1. 1. 0. 0. 1. 1. 0. 0. 0. 0. 1. 0. 0.\n",
            "  0. 0. 0. 0. 0. 1. 0. 0. 0.]\n",
            " [1. 0. 0. 0. 0. 0. 0. 0. 1. 0. 0. 1. 0. 1. 1. 0. 0. 1. 0. 0. 0. 0. 0. 0.\n",
            "  1. 0. 0. 0. 0. 0. 1. 0. 0.]]\n"
          ],
          "name": "stdout"
        }
      ]
    },
    {
      "cell_type": "code",
      "metadata": {
        "id": "JuhsERa-oG0R"
      },
      "source": [
        "Features = np.concatenate([Features, np.array(cust_data[['YearlyIncome','Age']])], axis = 1)\n",
        "#Adding numeric features"
      ],
      "execution_count": 11,
      "outputs": []
    },
    {
      "cell_type": "code",
      "metadata": {
        "id": "XMokkvFOosxr"
      },
      "source": [
        "nr.seed(100)\n",
        "labels = np.array(cust_data['AveMonthSpend'])\n",
        "indx = range(Features.shape[0])\n",
        "indx = ms.train_test_split(indx, test_size = 50)\n",
        "x_train = Features[indx[0],:]\n",
        "y_train = np.ravel(labels[indx[0]])\n",
        "x_test = Features[indx[1],:]\n",
        "y_test = np.ravel(labels[indx[1]])\n"
      ],
      "execution_count": 30,
      "outputs": []
    },
    {
      "cell_type": "code",
      "metadata": {
        "colab": {
          "base_uri": "https://localhost:8080/"
        },
        "id": "JE_gInRJpVYR",
        "outputId": "6b136c32-f7ee-4694-d86b-c83d4a4298b3"
      },
      "source": [
        "scaler = preprocessing.StandardScaler().fit(x_train[:,33:])\n",
        "x_train[:,33:] = scaler.transform(x_train[:,33:])\n",
        "x_test[:,33:] = scaler.transform(x_test[:,33:])\n",
        "print(x_train.shape)\n",
        "x_train[:5,:]"
      ],
      "execution_count": 32,
      "outputs": [
        {
          "output_type": "stream",
          "text": [
            "(16354, 35)\n"
          ],
          "name": "stdout"
        },
        {
          "output_type": "execute_result",
          "data": {
            "text/plain": [
              "array([[ 0.        ,  0.        ,  1.        ,  0.        ,  0.        ,\n",
              "         0.        ,  0.        ,  0.        ,  0.        ,  1.        ,\n",
              "         1.        ,  0.        ,  1.        ,  0.        ,  0.        ,\n",
              "         1.        ,  0.        ,  0.        ,  1.        ,  0.        ,\n",
              "         0.        ,  1.        ,  0.        ,  0.        ,  0.        ,\n",
              "         0.        ,  0.        ,  0.        ,  0.        ,  1.        ,\n",
              "         0.        ,  0.        ,  0.        , -0.56688935,  0.49450839],\n",
              "       [ 0.        ,  0.        ,  0.        ,  1.        ,  0.        ,\n",
              "         0.        ,  0.        ,  0.        ,  0.        ,  1.        ,\n",
              "         1.        ,  0.        ,  0.        ,  1.        ,  1.        ,\n",
              "         0.        ,  0.        ,  1.        ,  0.        ,  0.        ,\n",
              "         0.        ,  1.        ,  0.        ,  0.        ,  0.        ,\n",
              "         0.        ,  0.        ,  1.        ,  0.        ,  0.        ,\n",
              "         0.        ,  0.        ,  0.        , -0.8164656 , -1.37404551],\n",
              "       [ 0.        ,  1.        ,  0.        ,  0.        ,  0.        ,\n",
              "         0.        ,  1.        ,  0.        ,  0.        ,  0.        ,\n",
              "         1.        ,  0.        ,  0.        ,  1.        ,  0.        ,\n",
              "         1.        ,  0.        ,  0.        ,  1.        ,  0.        ,\n",
              "         0.        ,  1.        ,  0.        ,  0.        ,  0.        ,\n",
              "         0.        ,  0.        ,  0.        ,  0.        ,  1.        ,\n",
              "         0.        ,  0.        ,  0.        , -0.31456857,  2.27408354],\n",
              "       [ 0.        ,  0.        ,  0.        ,  1.        ,  0.        ,\n",
              "         0.        ,  0.        ,  0.        ,  1.        ,  0.        ,\n",
              "         0.        ,  1.        ,  1.        ,  0.        ,  0.        ,\n",
              "         1.        ,  0.        ,  0.        ,  1.        ,  0.        ,\n",
              "         0.        ,  0.        ,  0.        ,  0.        ,  0.        ,\n",
              "         1.        ,  0.        ,  0.        ,  0.        ,  0.        ,\n",
              "         0.        ,  1.        ,  0.        ,  2.0033532 ,  0.40552964],\n",
              "       [ 0.        ,  0.        ,  0.        ,  0.        ,  1.        ,\n",
              "         0.        ,  0.        ,  0.        ,  0.        ,  1.        ,\n",
              "         1.        ,  0.        ,  0.        ,  1.        ,  0.        ,\n",
              "         1.        ,  0.        ,  0.        ,  1.        ,  0.        ,\n",
              "         0.        ,  0.        ,  1.        ,  0.        ,  0.        ,\n",
              "         0.        ,  0.        ,  0.        ,  0.        ,  1.        ,\n",
              "         0.        ,  0.        ,  0.        , -0.82197984,  1.02838094]])"
            ]
          },
          "metadata": {
            "tags": []
          },
          "execution_count": 32
        }
      ]
    },
    {
      "cell_type": "code",
      "metadata": {
        "colab": {
          "base_uri": "https://localhost:8080/"
        },
        "id": "1iv56pZAkq5r",
        "outputId": "99ab9c24-ecc6-4fdb-e8a3-393f928d600e"
      },
      "source": [
        "lin_mod = linear_model.LinearRegression(fit_intercept = False)\n",
        "lin_mod.fit(x_train, y_train)\n",
        "print(lin_mod.intercept_)\n",
        "print(lin_mod.coef_)"
      ],
      "execution_count": 33,
      "outputs": [
        {
          "output_type": "stream",
          "text": [
            "0.0\n",
            "[-7.30527549e+10 -7.30527549e+10 -7.30527549e+10 -7.30527549e+10\n",
            " -7.30527549e+10  9.88358505e+12  9.88358505e+12  9.88358505e+12\n",
            "  9.88358505e+12  9.88358505e+12  2.10196683e+13  2.10196683e+13\n",
            "  9.58258642e+12  9.58258642e+12 -4.41268814e+13 -4.41268814e+13\n",
            " -1.14510213e+12 -1.14510213e+12 -1.14510213e+12 -1.14510213e+12\n",
            " -1.14510213e+12 -7.67117982e+11 -7.67117982e+11 -7.67117982e+11\n",
            " -7.67117982e+11 -7.67117982e+11 -7.67117982e+11  5.62631451e+12\n",
            "  5.62631451e+12  5.62631451e+12  5.62631451e+12  5.62631451e+12\n",
            "  5.62631451e+12  8.60043335e+00 -1.58012915e+00]\n"
          ],
          "name": "stdout"
        }
      ]
    },
    {
      "cell_type": "code",
      "metadata": {
        "colab": {
          "base_uri": "https://localhost:8080/",
          "height": 295
        },
        "id": "dX9eLmKgubWY",
        "outputId": "c8ebc8d0-0651-4d7d-fde0-4514bc813a53"
      },
      "source": [
        "y_score = lin_mod.predict(x_test)\n",
        "def resid_qq(y_test, y_score):\n",
        "    ## first compute vector of residuals. \n",
        "    resids = np.subtract(y_test.reshape(-1,1), y_score.reshape(-1,1))\n",
        "    ## now make the residual plots\n",
        "    ss.probplot(resids.flatten(), plot = plt)\n",
        "    plt.title('Residuals vs. predicted values')\n",
        "    plt.xlabel('Predicted values')\n",
        "    plt.ylabel('Residual')\n",
        "    \n",
        "resid_qq(y_test, y_score)"
      ],
      "execution_count": 34,
      "outputs": [
        {
          "output_type": "display_data",
          "data": {
            "image/png": "[encoded data removed]",
            "text/plain": [
              "<Figure size 432x288 with 1 Axes>"
            ]
          },
          "metadata": {
            "tags": []
          }
        }
      ]
    },
    {
      "cell_type": "markdown",
      "metadata": {
        "id": "C2BU9lS3verH"
      },
      "source": [
        "We see that residual values are almost close to the straight line and have fairly small residuals. It becomes big when the predicted values are negative"
      ]
    },
    {
      "cell_type": "markdown",
      "metadata": {
        "id": "2gOGNnd3lTzQ"
      },
      "source": [
        "##PREPARING THE TEST DATA"
      ]
    },
    {
      "cell_type": "code",
      "metadata": {
        "id": "7381kk3VmDMg"
      },
      "source": [
        "test_data = pd.read_csv(\"AW_test.csv\")"
      ],
      "execution_count": 17,
      "outputs": []
    },
    {
      "cell_type": "code",
      "metadata": {
        "colab": {
          "base_uri": "https://localhost:8080/",
          "height": 309
        },
        "id": "G9cd-UTUlb0n",
        "outputId": "ae383029-e858-46f6-8d99-57a7dd0f2ea3"
      },
      "source": [
        "test_data.head()"
      ],
      "execution_count": 18,
      "outputs": [
        {
          "output_type": "execute_result",
          "data": {
            "text/html": [
              "<div>\n",
              "<style scoped>\n",
              "    .dataframe tbody tr th:only-of-type {\n",
              "        vertical-align: middle;\n",
              "    }\n",
              "\n",
              "    .dataframe tbody tr th {\n",
              "        vertical-align: top;\n",
              "    }\n",
              "\n",
              "    .dataframe thead th {\n",
              "        text-align: right;\n",
              "    }\n",
              "</style>\n",
              "<table border=\"1\" class=\"dataframe\">\n",
              "  <thead>\n",
              "    <tr style=\"text-align: right;\">\n",
              "      <th></th>\n",
              "      <th>CustomerID</th>\n",
              "      <th>Title</th>\n",
              "      <th>FirstName</th>\n",
              "      <th>MiddleName</th>\n",
              "      <th>LastName</th>\n",
              "      <th>Suffix</th>\n",
              "      <th>AddressLine1</th>\n",
              "      <th>AddressLine2</th>\n",
              "      <th>City</th>\n",
              "      <th>StateProvinceName</th>\n",
              "      <th>CountryRegionName</th>\n",
              "      <th>PostalCode</th>\n",
              "      <th>PhoneNumber</th>\n",
              "      <th>BirthDate</th>\n",
              "      <th>Education</th>\n",
              "      <th>Occupation</th>\n",
              "      <th>Gender</th>\n",
              "      <th>MaritalStatus</th>\n",
              "      <th>HomeOwnerFlag</th>\n",
              "      <th>NumberCarsOwned</th>\n",
              "      <th>NumberChildrenAtHome</th>\n",
              "      <th>TotalChildren</th>\n",
              "      <th>YearlyIncome</th>\n",
              "    </tr>\n",
              "  </thead>\n",
              "  <tbody>\n",
              "    <tr>\n",
              "      <th>0</th>\n",
              "      <td>18988</td>\n",
              "      <td>NaN</td>\n",
              "      <td>Courtney</td>\n",
              "      <td>A</td>\n",
              "      <td>Baker</td>\n",
              "      <td>NaN</td>\n",
              "      <td>8727 Buena Vista Ave.</td>\n",
              "      <td>NaN</td>\n",
              "      <td>Fremont</td>\n",
              "      <td>California</td>\n",
              "      <td>United States</td>\n",
              "      <td>94536</td>\n",
              "      <td>133-555-0128</td>\n",
              "      <td>1/5/1945</td>\n",
              "      <td>Bachelors</td>\n",
              "      <td>Management</td>\n",
              "      <td>F</td>\n",
              "      <td>S</td>\n",
              "      <td>0</td>\n",
              "      <td>2</td>\n",
              "      <td>0</td>\n",
              "      <td>5</td>\n",
              "      <td>86931</td>\n",
              "    </tr>\n",
              "    <tr>\n",
              "      <th>1</th>\n",
              "      <td>29135</td>\n",
              "      <td>NaN</td>\n",
              "      <td>Adam</td>\n",
              "      <td>C</td>\n",
              "      <td>Allen</td>\n",
              "      <td>NaN</td>\n",
              "      <td>3491 Cook Street</td>\n",
              "      <td>NaN</td>\n",
              "      <td>Haney</td>\n",
              "      <td>British Columbia</td>\n",
              "      <td>Canada</td>\n",
              "      <td>V2W 1W2</td>\n",
              "      <td>252-555-0173</td>\n",
              "      <td>10/4/1964</td>\n",
              "      <td>Bachelors</td>\n",
              "      <td>Skilled Manual</td>\n",
              "      <td>M</td>\n",
              "      <td>M</td>\n",
              "      <td>1</td>\n",
              "      <td>2</td>\n",
              "      <td>2</td>\n",
              "      <td>4</td>\n",
              "      <td>100125</td>\n",
              "    </tr>\n",
              "    <tr>\n",
              "      <th>2</th>\n",
              "      <td>12156</td>\n",
              "      <td>NaN</td>\n",
              "      <td>Bonnie</td>\n",
              "      <td>NaN</td>\n",
              "      <td>Raji</td>\n",
              "      <td>NaN</td>\n",
              "      <td>359 Pleasant Hill Rd</td>\n",
              "      <td>NaN</td>\n",
              "      <td>Burbank</td>\n",
              "      <td>California</td>\n",
              "      <td>United States</td>\n",
              "      <td>91502</td>\n",
              "      <td>409-555-0193</td>\n",
              "      <td>1/12/1934</td>\n",
              "      <td>Graduate Degree</td>\n",
              "      <td>Management</td>\n",
              "      <td>F</td>\n",
              "      <td>M</td>\n",
              "      <td>1</td>\n",
              "      <td>2</td>\n",
              "      <td>0</td>\n",
              "      <td>4</td>\n",
              "      <td>103985</td>\n",
              "    </tr>\n",
              "    <tr>\n",
              "      <th>3</th>\n",
              "      <td>13749</td>\n",
              "      <td>NaN</td>\n",
              "      <td>Julio</td>\n",
              "      <td>C</td>\n",
              "      <td>Alonso</td>\n",
              "      <td>NaN</td>\n",
              "      <td>8945 Euclid Ave.</td>\n",
              "      <td>NaN</td>\n",
              "      <td>Burlingame</td>\n",
              "      <td>California</td>\n",
              "      <td>United States</td>\n",
              "      <td>94010</td>\n",
              "      <td>175-555-0196</td>\n",
              "      <td>9/22/1958</td>\n",
              "      <td>Graduate Degree</td>\n",
              "      <td>Skilled Manual</td>\n",
              "      <td>M</td>\n",
              "      <td>M</td>\n",
              "      <td>1</td>\n",
              "      <td>0</td>\n",
              "      <td>0</td>\n",
              "      <td>4</td>\n",
              "      <td>127161</td>\n",
              "    </tr>\n",
              "    <tr>\n",
              "      <th>4</th>\n",
              "      <td>27780</td>\n",
              "      <td>NaN</td>\n",
              "      <td>Christy</td>\n",
              "      <td>A</td>\n",
              "      <td>Andersen</td>\n",
              "      <td>NaN</td>\n",
              "      <td>42, boulevard Tremblay</td>\n",
              "      <td>NaN</td>\n",
              "      <td>Dunkerque</td>\n",
              "      <td>Nord</td>\n",
              "      <td>France</td>\n",
              "      <td>59140</td>\n",
              "      <td>1 (11) 500 555-0122</td>\n",
              "      <td>3/19/1965</td>\n",
              "      <td>High School</td>\n",
              "      <td>Manual</td>\n",
              "      <td>F</td>\n",
              "      <td>M</td>\n",
              "      <td>1</td>\n",
              "      <td>1</td>\n",
              "      <td>2</td>\n",
              "      <td>2</td>\n",
              "      <td>21876</td>\n",
              "    </tr>\n",
              "  </tbody>\n",
              "</table>\n",
              "</div>"
            ],
            "text/plain": [
              "   CustomerID Title  ... TotalChildren YearlyIncome\n",
              "0       18988   NaN  ...             5        86931\n",
              "1       29135   NaN  ...             4       100125\n",
              "2       12156   NaN  ...             4       103985\n",
              "3       13749   NaN  ...             4       127161\n",
              "4       27780   NaN  ...             2        21876\n",
              "\n",
              "[5 rows x 23 columns]"
            ]
          },
          "metadata": {
            "tags": []
          },
          "execution_count": 18
        }
      ]
    },
    {
      "cell_type": "code",
      "metadata": {
        "colab": {
          "base_uri": "https://localhost:8080/",
          "height": 309
        },
        "id": "5M_Pw4q_n_MF",
        "outputId": "5d941332-cd6a-441b-aed7-d380f45e0f00"
      },
      "source": [
        "Age = []  #Add age column\n",
        "reference = date(1998,1,1)\n",
        "test_data['BirthDate'] = pd.to_datetime(test_data['BirthDate'])\n",
        "for x in test_data['BirthDate']:\n",
        "  a = reference.year - x.year - ((reference.month, reference.day) < (x.month, x.day))\n",
        "  Age.append(a)\n",
        "test_data['Age'] = Age\n",
        "test_data.head()"
      ],
      "execution_count": 26,
      "outputs": [
        {
          "output_type": "execute_result",
          "data": {
            "text/html": [
              "<div>\n",
              "<style scoped>\n",
              "    .dataframe tbody tr th:only-of-type {\n",
              "        vertical-align: middle;\n",
              "    }\n",
              "\n",
              "    .dataframe tbody tr th {\n",
              "        vertical-align: top;\n",
              "    }\n",
              "\n",
              "    .dataframe thead th {\n",
              "        text-align: right;\n",
              "    }\n",
              "</style>\n",
              "<table border=\"1\" class=\"dataframe\">\n",
              "  <thead>\n",
              "    <tr style=\"text-align: right;\">\n",
              "      <th></th>\n",
              "      <th>CustomerID</th>\n",
              "      <th>Title</th>\n",
              "      <th>FirstName</th>\n",
              "      <th>MiddleName</th>\n",
              "      <th>LastName</th>\n",
              "      <th>Suffix</th>\n",
              "      <th>AddressLine1</th>\n",
              "      <th>AddressLine2</th>\n",
              "      <th>City</th>\n",
              "      <th>StateProvinceName</th>\n",
              "      <th>CountryRegionName</th>\n",
              "      <th>PostalCode</th>\n",
              "      <th>PhoneNumber</th>\n",
              "      <th>BirthDate</th>\n",
              "      <th>Education</th>\n",
              "      <th>Occupation</th>\n",
              "      <th>Gender</th>\n",
              "      <th>MaritalStatus</th>\n",
              "      <th>HomeOwnerFlag</th>\n",
              "      <th>NumberCarsOwned</th>\n",
              "      <th>NumberChildrenAtHome</th>\n",
              "      <th>TotalChildren</th>\n",
              "      <th>YearlyIncome</th>\n",
              "      <th>Age</th>\n",
              "    </tr>\n",
              "  </thead>\n",
              "  <tbody>\n",
              "    <tr>\n",
              "      <th>0</th>\n",
              "      <td>18988</td>\n",
              "      <td>NaN</td>\n",
              "      <td>Courtney</td>\n",
              "      <td>A</td>\n",
              "      <td>Baker</td>\n",
              "      <td>NaN</td>\n",
              "      <td>8727 Buena Vista Ave.</td>\n",
              "      <td>NaN</td>\n",
              "      <td>Fremont</td>\n",
              "      <td>California</td>\n",
              "      <td>United States</td>\n",
              "      <td>94536</td>\n",
              "      <td>133-555-0128</td>\n",
              "      <td>1945-01-05</td>\n",
              "      <td>Bachelors</td>\n",
              "      <td>Management</td>\n",
              "      <td>F</td>\n",
              "      <td>S</td>\n",
              "      <td>0</td>\n",
              "      <td>2</td>\n",
              "      <td>0</td>\n",
              "      <td>5</td>\n",
              "      <td>86931</td>\n",
              "      <td>52</td>\n",
              "    </tr>\n",
              "    <tr>\n",
              "      <th>1</th>\n",
              "      <td>29135</td>\n",
              "      <td>NaN</td>\n",
              "      <td>Adam</td>\n",
              "      <td>C</td>\n",
              "      <td>Allen</td>\n",
              "      <td>NaN</td>\n",
              "      <td>3491 Cook Street</td>\n",
              "      <td>NaN</td>\n",
              "      <td>Haney</td>\n",
              "      <td>British Columbia</td>\n",
              "      <td>Canada</td>\n",
              "      <td>V2W 1W2</td>\n",
              "      <td>252-555-0173</td>\n",
              "      <td>1964-10-04</td>\n",
              "      <td>Bachelors</td>\n",
              "      <td>Skilled Manual</td>\n",
              "      <td>M</td>\n",
              "      <td>M</td>\n",
              "      <td>1</td>\n",
              "      <td>2</td>\n",
              "      <td>2</td>\n",
              "      <td>4</td>\n",
              "      <td>100125</td>\n",
              "      <td>33</td>\n",
              "    </tr>\n",
              "    <tr>\n",
              "      <th>2</th>\n",
              "      <td>12156</td>\n",
              "      <td>NaN</td>\n",
              "      <td>Bonnie</td>\n",
              "      <td>NaN</td>\n",
              "      <td>Raji</td>\n",
              "      <td>NaN</td>\n",
              "      <td>359 Pleasant Hill Rd</td>\n",
              "      <td>NaN</td>\n",
              "      <td>Burbank</td>\n",
              "      <td>California</td>\n",
              "      <td>United States</td>\n",
              "      <td>91502</td>\n",
              "      <td>409-555-0193</td>\n",
              "      <td>1934-01-12</td>\n",
              "      <td>Graduate Degree</td>\n",
              "      <td>Management</td>\n",
              "      <td>F</td>\n",
              "      <td>M</td>\n",
              "      <td>1</td>\n",
              "      <td>2</td>\n",
              "      <td>0</td>\n",
              "      <td>4</td>\n",
              "      <td>103985</td>\n",
              "      <td>63</td>\n",
              "    </tr>\n",
              "    <tr>\n",
              "      <th>3</th>\n",
              "      <td>13749</td>\n",
              "      <td>NaN</td>\n",
              "      <td>Julio</td>\n",
              "      <td>C</td>\n",
              "      <td>Alonso</td>\n",
              "      <td>NaN</td>\n",
              "      <td>8945 Euclid Ave.</td>\n",
              "      <td>NaN</td>\n",
              "      <td>Burlingame</td>\n",
              "      <td>California</td>\n",
              "      <td>United States</td>\n",
              "      <td>94010</td>\n",
              "      <td>175-555-0196</td>\n",
              "      <td>1958-09-22</td>\n",
              "      <td>Graduate Degree</td>\n",
              "      <td>Skilled Manual</td>\n",
              "      <td>M</td>\n",
              "      <td>M</td>\n",
              "      <td>1</td>\n",
              "      <td>0</td>\n",
              "      <td>0</td>\n",
              "      <td>4</td>\n",
              "      <td>127161</td>\n",
              "      <td>39</td>\n",
              "    </tr>\n",
              "    <tr>\n",
              "      <th>4</th>\n",
              "      <td>27780</td>\n",
              "      <td>NaN</td>\n",
              "      <td>Christy</td>\n",
              "      <td>A</td>\n",
              "      <td>Andersen</td>\n",
              "      <td>NaN</td>\n",
              "      <td>42, boulevard Tremblay</td>\n",
              "      <td>NaN</td>\n",
              "      <td>Dunkerque</td>\n",
              "      <td>Nord</td>\n",
              "      <td>France</td>\n",
              "      <td>59140</td>\n",
              "      <td>1 (11) 500 555-0122</td>\n",
              "      <td>1965-03-19</td>\n",
              "      <td>High School</td>\n",
              "      <td>Manual</td>\n",
              "      <td>F</td>\n",
              "      <td>M</td>\n",
              "      <td>1</td>\n",
              "      <td>1</td>\n",
              "      <td>2</td>\n",
              "      <td>2</td>\n",
              "      <td>21876</td>\n",
              "      <td>32</td>\n",
              "    </tr>\n",
              "  </tbody>\n",
              "</table>\n",
              "</div>"
            ],
            "text/plain": [
              "   CustomerID Title FirstName  ... TotalChildren YearlyIncome Age\n",
              "0       18988   NaN  Courtney  ...             5        86931  52\n",
              "1       29135   NaN      Adam  ...             4       100125  33\n",
              "2       12156   NaN    Bonnie  ...             4       103985  63\n",
              "3       13749   NaN     Julio  ...             4       127161  39\n",
              "4       27780   NaN   Christy  ...             2        21876  32\n",
              "\n",
              "[5 rows x 24 columns]"
            ]
          },
          "metadata": {
            "tags": []
          },
          "execution_count": 26
        }
      ]
    },
    {
      "cell_type": "code",
      "metadata": {
        "colab": {
          "base_uri": "https://localhost:8080/"
        },
        "id": "OCs2dolvyCpf",
        "outputId": "d16902b0-f21a-497a-914f-bed0ef688847"
      },
      "source": [
        "#CREATING TEST MATRIX\n",
        "features = test_data['Education']\n",
        "enc = preprocessing.LabelEncoder()\n",
        "enc.fit(features)\n",
        "features = enc.transform(features)\n",
        "\n",
        "ohe = preprocessing.OneHotEncoder()\n",
        "encoded = ohe.fit(features.reshape(-1,1))\n",
        "features = encoded.transform(features.reshape(-1,1)).toarray()\n",
        "\n",
        "def encode_string(cat_feature):\n",
        "    ## First encode the strings to numeric categories\n",
        "    enc = preprocessing.LabelEncoder()\n",
        "    enc.fit(cat_feature)\n",
        "    enc_cat_feature = enc.transform(cat_feature)\n",
        "    ## Now, apply one hot encoding\n",
        "    ohe = preprocessing.OneHotEncoder()\n",
        "    encoded = ohe.fit(enc_cat_feature.reshape(-1,1))\n",
        "    return encoded.transform(enc_cat_feature.reshape(-1,1)).toarray()\n",
        "    \n",
        "\n",
        "categorical_columns = ['Occupation', 'Gender','MaritalStatus','HomeOwnerFlag','NumberCarsOwned','NumberChildrenAtHome','TotalChildren']\n",
        "\n",
        "for col in categorical_columns:\n",
        "    temp = encode_string(test_data[col])\n",
        "    features = np.concatenate([features, temp], axis = 1)\n",
        "\n",
        "print(features.shape)\n",
        "print(features[:2, :])"
      ],
      "execution_count": 39,
      "outputs": [
        {
          "output_type": "stream",
          "text": [
            "(500, 33)\n",
            "[[1. 0. 0. 0. 0. 0. 1. 0. 0. 0. 1. 0. 0. 1. 1. 0. 0. 0. 1. 0. 0. 1. 0. 0.\n",
            "  0. 0. 0. 0. 0. 0. 0. 0. 1.]\n",
            " [1. 0. 0. 0. 0. 0. 0. 0. 0. 1. 0. 1. 1. 0. 0. 1. 0. 0. 1. 0. 0. 0. 0. 1.\n",
            "  0. 0. 0. 0. 0. 0. 0. 1. 0.]]\n"
          ],
          "name": "stdout"
        }
      ]
    },
    {
      "cell_type": "code",
      "metadata": {
        "id": "iJF9PqozyvaV"
      },
      "source": [
        "features = np.concatenate([features, np.array(test_data[['YearlyIncome','Age']])], axis = 1)\n",
        "#Adding numeric features"
      ],
      "execution_count": 40,
      "outputs": []
    },
    {
      "cell_type": "code",
      "metadata": {
        "id": "2lSIa7j7y_QV"
      },
      "source": [
        "scaler = preprocessing.StandardScaler().fit(features[:,33:])\n",
        "features[:,33:] = scaler.transform(features[:,33:])"
      ],
      "execution_count": 44,
      "outputs": []
    },
    {
      "cell_type": "code",
      "metadata": {
        "colab": {
          "base_uri": "https://localhost:8080/"
        },
        "id": "BsrYVdlh0QHW",
        "outputId": "22d1e5ad-db1b-4eb6-b0a0-28876fcb4150"
      },
      "source": [
        "y_pred = lin_mod.predict(features)\n",
        "print(\"Predicted response: \\n\",y_pred)"
      ],
      "execution_count": 45,
      "outputs": [
        {
          "output_type": "stream",
          "text": [
            "Predicted response: \n",
            " [ 41.76269531 104.5493309   47.52287519  87.7484758   59.44736312\n",
            "  43.12435582  93.72682501 127.06260268 102.96192543  56.17059016\n",
            "  58.2924963   50.24635908  72.37975678  45.50908288  37.60508426\n",
            "  50.34796106  85.03130323  73.16990448 113.02539062  57.78311835\n",
            "  68.28484752  76.08814575 150.41992188  83.87619501  54.25195312\n",
            "  73.86570884  86.38851419 114.3630983   77.02854049  61.32357854\n",
            "  68.33542569  80.00731966  39.40484722  70.78808594 104.74857093\n",
            " 103.19546981 149.9765625   91.52465852  58.33318192  86.87567509\n",
            "  46.4980896   79.87385499  81.78431805  47.52754579  58.01031652\n",
            "  75.04189317  60.30235905  85.53988419 115.18215026  79.72253316\n",
            "  80.22293341  95.02070744  79.74342934  64.46154487  46.61095138\n",
            "  76.17851559  57.10336585  74.58582789  63.81333203  69.96474224\n",
            "  45.98560695  65.6174078   89.735342    80.61894727  43.76388386\n",
            "  79.46161531  81.96407659 132.21397492  65.41271623 106.02486286\n",
            "  83.36497687  67.62478106  92.21721293  44.22342069  65.67238986\n",
            "  80.35505029 115.30651612  67.78759457  62.44928637  46.89553117\n",
            "  86.20562832  72.60573404  47.02619278  88.55031901  85.51678125\n",
            "  47.88684915  84.98390189 118.75147007  96.26428401  54.2575582\n",
            "  52.75216519  94.61230469  37.65044256  48.5350447   37.90161567\n",
            " 138.01627857  60.01611654  49.73797843  45.21668348  53.58591371\n",
            " 107.35644531  73.13364562  49.20718206 117.78930863  86.08578822\n",
            " 102.65894129  32.93538318  45.68359375  46.78962274  59.36540809\n",
            "  95.33007812  47.46570988  83.32768086  63.78002254  76.77229541\n",
            "  84.61110517  38.61738236  40.50890581  45.74073047  87.50606168\n",
            " 123.8515625   85.84009163  82.38474771  38.53417969  78.29657699\n",
            "  56.26193412  65.3326342   89.74091348  85.45235809 121.37851602\n",
            "  37.31519843  87.5510385  119.92877046  43.28685891  49.3801069\n",
            " 113.3125     151.95117188  84.03144176  83.64160156  83.55872676\n",
            "  89.56651909  42.20290505 113.02509318  35.54787453  75.83242552\n",
            "  60.25161022  50.63183066  37.560949    64.46904317  64.52530376\n",
            "  98.48044741  70.67380583  68.40567994  76.42674518 106.11387483\n",
            "  37.09334476  77.15495659  67.52359187  80.67633628  94.04398783\n",
            "  37.36132812  71.72653499  59.6623494   94.44181707 108.62402344\n",
            "  57.62520141  95.70532839 101.87149671  91.94071651  37.28631331\n",
            "  79.08789062  76.05591259  78.79866842  79.53731143  40.02308341\n",
            "  32.57753221 109.46484375  72.36474852  50.94995158 134.41442319\n",
            "  36.19866187  39.01522286 107.79296875  73.46180417  31.43961729\n",
            "  40.52570164  60.56730464  65.65918999  50.39814034  57.81597149\n",
            "  80.70725104  80.47363281  75.87113159  81.64106671  88.11653887\n",
            "  68.12109375  47.22962567  74.81925395  48.8125      94.08170245\n",
            "  57.69410972  79.14685884  31.48213815  78.45110923 130.09863281\n",
            "  82.1489406  116.54980469  96.79815457  67.27328666  71.4758671\n",
            "  77.05759756  69.55774667 120.96602292  42.03574077  44.50975097\n",
            "  79.34559664  44.12638556  56.69433594  78.9241978   80.17200923\n",
            "  39.4749975   76.55732853 101.71563824  66.96425341  61.32160402\n",
            "  46.24939228  58.76224682 100.99293325  81.71640668  86.81342205\n",
            "  89.54921121  50.03553284  73.15278308  67.67157716 106.03557639\n",
            "  68.30596419  91.70819596  95.55788644  40.93617147  72.33663128\n",
            "  86.15277861  63.35560777  39.02871101  58.50152351  67.59793851\n",
            "  46.34234942  77.97437976  70.1635415   77.60684993  85.1062617\n",
            " 107.1484375   57.09945588  51.78418464  38.15309869 128.96412415\n",
            "  92.37067391  50.38921129  79.49982458 121.86505017  81.22863248\n",
            "  40.61846645  68.50596983  86.25187406  67.28554603  82.79209643\n",
            "  68.45437     42.66882363  76.49858361 109.21969784  58.6792657\n",
            " 110.75292969  39.82814798  86.51812328  66.01431251 103.91134066\n",
            "  42.04398492 137.73430499  50.64784328 120.2265625   75.35600419\n",
            "  89.52577047  59.12792969  72.71834712  59.30328085  52.16558449\n",
            "  30.46896281  74.89240485  41.58752666  44.11211325  68.42941229\n",
            "  78.04664317  50.48448016  86.08040983 142.47167969  73.61572006\n",
            " 109.07212098 138.12464246  40.17839252  65.80223611  35.04375898\n",
            "  45.66156859  56.2785496  114.85249442 101.03567024  77.2421875\n",
            "  36.08447128  99.51919702 144.80957031 123.35644531  76.16977864\n",
            "  41.01932298 108.61914062 151.27832031  54.12597656  79.28976322\n",
            "  43.19542429  36.36438642  64.76453895 141.6036777   73.22457494\n",
            "  71.50315523  65.8852063   50.18895688  34.00195312 136.73450425\n",
            "  58.76522747  42.35735843  81.91417926  57.18167258  45.98719577\n",
            "  88.94626038  83.13916528 114.27460015  55.04099081  69.03712404\n",
            " 114.36230469  78.09214425  37.50202185 114.34195309  47.67741319\n",
            "  90.54187475  75.00935666  75.24324827  77.56832463  74.15258042\n",
            "  63.37038774  79.64088308  58.02674274 113.19335938  78.53199753\n",
            "  70.67552505  77.99867886  43.82870329  56.45538624  50.10351562\n",
            "  89.78684253  82.09258081  53.92320204  60.42610253  53.11545148\n",
            " 112.23535156  68.51481015  74.93187295  75.9817688   70.01881297\n",
            "  59.23695328  42.8361611   50.88960286  44.31855239  63.57768951\n",
            " 137.78125     40.59744883  90.36472251  71.59685377  82.71973627\n",
            "  45.61389128  76.24084984  42.94173735  38.61204713 140.94238281\n",
            "  96.59414176  80.29131248  30.92669492  85.03967163  44.41364561\n",
            "  79.60751002 116.81082301  45.82352932  88.60044927  80.94167012\n",
            "  90.89355469  55.44032838 120.44611316  73.43963233  44.73451466\n",
            "  76.56559592  82.21857753  39.3162036   64.0324716   73.48862621\n",
            "  47.84191427 141.38208235 112.5408016   92.22373585  59.28156291\n",
            "  86.69378152 104.08484114  44.59227711  80.51863779  46.35560086\n",
            " 105.29243794  64.33034145  76.4921875   59.19854836  86.48255149\n",
            "  75.10874148  83.94896641 145.07519531  97.52503927  68.04022561\n",
            "  72.95441093  33.76367444  54.83559652  67.99695571  54.01223092\n",
            "  44.99081924  48.21990776  60.77146247  61.45594369  62.88676741\n",
            "  39.2432748   98.59181181  91.28275363 114.36649817 113.48992262\n",
            "  79.03445707  68.1322622   72.71710368  74.4695633   88.10588707\n",
            "  51.90458281 108.84472656  91.93882088 111.74284685  38.44224616\n",
            "  77.89284891  45.92495449 109.54457687  64.79681582  43.13406252\n",
            "  55.50992342 115.14805627  86.38226307  52.42823955  76.18164062\n",
            "  51.22903832  80.85034177  70.28701421  48.96424154  92.13596965\n",
            "  83.64865032  37.15732159 101.18650501  39.52270516 104.83886719\n",
            "  79.22629637  52.86838156  86.59005044  51.96530159  59.5901368\n",
            "  47.36091455  88.37207031  92.74645221  47.2184625   59.64696852\n",
            "  67.26608008  67.56343314 135.0860517  129.15589014 126.63378906\n",
            " 127.91992188  81.27506747 112.08203125  73.5996158   72.63695274\n",
            "  28.62505303 146.63964844  49.08393358  87.19417431  89.43002236\n",
            "  71.17811486 101.86425781 137.00633678  75.81869399  56.57337692\n",
            "  46.92929801  89.59898696  81.32621627  55.70230135  30.23133235]\n"
          ],
          "name": "stdout"
        }
      ]
    },
    {
      "cell_type": "code",
      "metadata": {
        "colab": {
          "base_uri": "https://localhost:8080/",
          "height": 202
        },
        "id": "u7GPXkve2uyY",
        "outputId": "d208eb94-a963-4b34-fecb-fc3461b6825b"
      },
      "source": [
        "A={'CustomerID':test_data['CustomerID'], 'Prediction':y_pred}\n",
        "final_result = pd.DataFrame(A)\n",
        "final_result.head()"
      ],
      "execution_count": 48,
      "outputs": [
        {
          "output_type": "execute_result",
          "data": {
            "text/html": [
              "<div>\n",
              "<style scoped>\n",
              "    .dataframe tbody tr th:only-of-type {\n",
              "        vertical-align: middle;\n",
              "    }\n",
              "\n",
              "    .dataframe tbody tr th {\n",
              "        vertical-align: top;\n",
              "    }\n",
              "\n",
              "    .dataframe thead th {\n",
              "        text-align: right;\n",
              "    }\n",
              "</style>\n",
              "<table border=\"1\" class=\"dataframe\">\n",
              "  <thead>\n",
              "    <tr style=\"text-align: right;\">\n",
              "      <th></th>\n",
              "      <th>CustomerID</th>\n",
              "      <th>Prediction</th>\n",
              "    </tr>\n",
              "  </thead>\n",
              "  <tbody>\n",
              "    <tr>\n",
              "      <th>0</th>\n",
              "      <td>18988</td>\n",
              "      <td>41.762695</td>\n",
              "    </tr>\n",
              "    <tr>\n",
              "      <th>1</th>\n",
              "      <td>29135</td>\n",
              "      <td>104.549331</td>\n",
              "    </tr>\n",
              "    <tr>\n",
              "      <th>2</th>\n",
              "      <td>12156</td>\n",
              "      <td>47.522875</td>\n",
              "    </tr>\n",
              "    <tr>\n",
              "      <th>3</th>\n",
              "      <td>13749</td>\n",
              "      <td>87.748476</td>\n",
              "    </tr>\n",
              "    <tr>\n",
              "      <th>4</th>\n",
              "      <td>27780</td>\n",
              "      <td>59.447363</td>\n",
              "    </tr>\n",
              "  </tbody>\n",
              "</table>\n",
              "</div>"
            ],
            "text/plain": [
              "   CustomerID  Prediction\n",
              "0       18988   41.762695\n",
              "1       29135  104.549331\n",
              "2       12156   47.522875\n",
              "3       13749   87.748476\n",
              "4       27780   59.447363"
            ]
          },
          "metadata": {
            "tags": []
          },
          "execution_count": 48
        }
      ]
    },
    {
      "cell_type": "code",
      "metadata": {
        "colab": {
          "base_uri": "https://localhost:8080/",
          "height": 17
        },
        "id": "gTsNWfl28cB-",
        "outputId": "64e59233-906a-4e3d-80fc-6067a37cba4a"
      },
      "source": [
        "from google.colab import files\n",
        "final_result.to_csv('Prediction.csv')\n",
        "files.download('Prediction.csv')"
      ],
      "execution_count": 53,
      "outputs": [
        {
          "output_type": "display_data",
          "data": {
            "application/javascript": [
              "\n",
              "    async function download(id, filename, size) {\n",
              "      if (!google.colab.kernel.accessAllowed) {\n",
              "        return;\n",
              "      }\n",
              "      const div = document.createElement('div');\n",
              "      const label = document.createElement('label');\n",
              "      label.textContent = `Downloading \"${filename}\": `;\n",
              "      div.appendChild(label);\n",
              "      const progress = document.createElement('progress');\n",
              "      progress.max = size;\n",
              "      div.appendChild(progress);\n",
              "      document.body.appendChild(div);\n",
              "\n",
              "      const buffers = [];\n",
              "      let downloaded = 0;\n",
              "\n",
              "      const channel = await google.colab.kernel.comms.open(id);\n",
              "      // Send a message to notify the kernel that we're ready.\n",
              "      channel.send({})\n",
              "\n",
              "      for await (const message of channel.messages) {\n",
              "        // Send a message to notify the kernel that we're ready.\n",
              "        channel.send({})\n",
              "        if (message.buffers) {\n",
              "          for (const buffer of message.buffers) {\n",
              "            buffers.push(buffer);\n",
              "            downloaded += buffer.byteLength;\n",
              "            progress.value = downloaded;\n",
              "          }\n",
              "        }\n",
              "      }\n",
              "      const blob = new Blob(buffers, {type: 'application/binary'});\n",
              "      const a = document.createElement('a');\n",
              "      a.href = window.URL.createObjectURL(blob);\n",
              "      a.download = filename;\n",
              "      div.appendChild(a);\n",
              "      a.click();\n",
              "      div.remove();\n",
              "    }\n",
              "  "
            ],
            "text/plain": [
              "<IPython.core.display.Javascript object>"
            ]
          },
          "metadata": {
            "tags": []
          }
        },
        {
          "output_type": "display_data",
          "data": {
            "application/javascript": [
              "download(\"download_485b467b-7f17-49d7-8c56-c064651d5735\", \"Prediction.csv\", 13713)"
            ],
            "text/plain": [
              "<IPython.core.display.Javascript object>"
            ]
          },
          "metadata": {
            "tags": []
          }
        }
      ]
    }
  ]
}